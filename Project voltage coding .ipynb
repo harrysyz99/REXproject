{
 "cells": [
  {
   "cell_type": "code",
   "execution_count": 2,
   "id": "388f6a8f-4f80-4e8c-bae5-08d5842aab5d",
   "metadata": {},
   "outputs": [
    {
     "name": "stdout",
     "output_type": "stream",
     "text": [
      "@module\n",
      "@class\n",
      "raw_data\n",
      "metadata\n",
      "paths\n",
      "barcode\n",
      "protocol\n",
      "channel_id\n",
      "summary\n",
      "cycles_interpolated\n",
      "diagnostic_summary\n",
      "diagnostic_interpolated\n",
      "@version\n",
      "cycle_index\n",
      "discharge_capacity\n",
      "charge_capacity\n",
      "discharge_energy\n",
      "charge_energy\n",
      "dc_internal_resistance\n",
      "temperature_maximum\n",
      "temperature_average\n",
      "temperature_minimum\n",
      "date_time_iso\n",
      "energy_efficiency\n",
      "charge_throughput\n",
      "energy_throughput\n",
      "charge_duration\n",
      "time_temperature_integrated\n",
      "paused\n"
     ]
    }
   ],
   "source": [
    "import json \n",
    "\n",
    "import pprint\n",
    "\n",
    "f = open('2018-08-28_oed_0_CH8_structure.json')\n",
    "\n",
    "chanel_8_data = json.load(f)\n",
    "\n",
    "## The for loop below will print the highest level of the dictionary\n",
    "\n",
    "for k in chanel_8_data.keys():\n",
    "\n",
    "    print(k)\n",
    "\n",
    "## Here I have printed out what is in the summary portion of the dictionary\n",
    "\n",
    "for j in chanel_8_data['summary']:\n",
    "\n",
    "    print(j)"
   ]
  },
  {
   "cell_type": "code",
   "execution_count": 3,
   "id": "527a5aa3-c9ef-4311-a7b3-3ba6f782ee4e",
   "metadata": {},
   "outputs": [
    {
     "data": {
      "text/plain": [
       "<pybamm.solvers.solution.Solution at 0x1444edfb5e0>"
      ]
     },
     "execution_count": 3,
     "metadata": {},
     "output_type": "execute_result"
    }
   ],
   "source": [
    "import pybamm\n",
    "experiment_discharge = pybamm.Experiment(\n",
    "    [\n",
    "        \"Discharge at 0.5C for 10 hours or until 3.3 V\",\n",
    "        \"Rest for 1 hour\",\n",
    "        \"Charge at 1 A until 4.1 V\",\n",
    "        \"Hold at 4.1 V until 50 mA\",\n",
    "        \"Rest for 1 hour\"\n",
    "    ]\n",
    ")\n",
    "\n",
    "model_spm = pybamm.lithium_ion.SPM()\n",
    "sim = pybamm.Simulation(model_spm)\n",
    "sim.solve([0, 3600])"
   ]
  },
  {
   "cell_type": "code",
   "execution_count": 6,
   "id": "f390b9d2-1a54-4ca5-b992-4c9e34ef3f30",
   "metadata": {},
   "outputs": [],
   "source": [
    "#for v in model_spm.variables.keys():\n",
    " #   print('\\t-',v)"
   ]
  },
  {
   "cell_type": "code",
   "execution_count": 4,
   "id": "e04e4d2b-5ed0-4d37-ba60-e7081188a4b3",
   "metadata": {},
   "outputs": [
    {
     "data": {
      "application/vnd.jupyter.widget-view+json": {
       "model_id": "c9a8dd776535485abd669c0462bb64aa",
       "version_major": 2,
       "version_minor": 0
      },
      "text/plain": [
       "interactive(children=(FloatSlider(value=0.0, description='t', max=3600.0, step=36.0), Output()), _dom_classes=…"
      ]
     },
     "metadata": {},
     "output_type": "display_data"
    },
    {
     "data": {
      "text/plain": [
       "<pybamm.plotting.quick_plot.QuickPlot at 0x14430e04490>"
      ]
     },
     "execution_count": 4,
     "metadata": {},
     "output_type": "execute_result"
    }
   ],
   "source": [
    "## basic overall plot for voatage and other imformation\n",
    "pybamm.dynamic_plot(sim, time_unit=\"seconds\")"
   ]
  },
  {
   "cell_type": "code",
   "execution_count": 6,
   "id": "e2237394-ed3c-4ad5-8c0c-85aa6a83cd88",
   "metadata": {},
   "outputs": [
    {
     "data": {
      "application/vnd.jupyter.widget-view+json": {
       "model_id": "4408ccb78e75471ab5cb6e4b55ec59e3",
       "version_major": 2,
       "version_minor": 0
      },
      "text/plain": [
       "interactive(children=(FloatSlider(value=0.0, description='t', max=1.0, step=0.01), Output()), _dom_classes=('w…"
      ]
     },
     "metadata": {},
     "output_type": "display_data"
    },
    {
     "data": {
      "text/plain": [
       "<pybamm.plotting.quick_plot.QuickPlot at 0x144528c2670>"
      ]
     },
     "execution_count": 6,
     "metadata": {},
     "output_type": "execute_result"
    }
   ],
   "source": [
    "output_variables = [\"Terminal voltage [V]\"]\n",
    "sim.plot(output_variables=output_variables)"
   ]
  },
  {
   "cell_type": "code",
   "execution_count": 8,
   "id": "988dc2c0-8328-455c-b40c-c1fade2faf30",
   "metadata": {},
   "outputs": [
    {
     "data": {
      "image/png": "[encoded data removed]",
      "text/plain": [
       "<Figure size 432x288 with 1 Axes>"
      ]
     },
     "metadata": {
      "needs_background": "light"
     },
     "output_type": "display_data"
    },
    {
     "data": {
      "text/plain": [
       "<AxesSubplot:xlabel='Time [h]'>"
      ]
     },
     "execution_count": 8,
     "metadata": {},
     "output_type": "execute_result"
    }
   ],
   "source": [
    "pybamm.plot_voltage_components(sim.solution)"
   ]
  }
 ],
 "metadata": {
  "kernelspec": {
   "display_name": "Python 3 (ipykernel)",
   "language": "python",
   "name": "python3"
  },
  "language_info": {
   "codemirror_mode": {
    "name": "ipython",
    "version": 3
   },
   "file_extension": ".py",
   "mimetype": "text/x-python",
   "name": "python",
   "nbconvert_exporter": "python",
   "pygments_lexer": "ipython3",
   "version": "3.9.5"
  }
 },
 "nbformat": 4,
 "nbformat_minor": 5
}
